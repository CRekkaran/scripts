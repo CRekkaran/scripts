{
 "cells": [
  {
   "cell_type": "code",
   "execution_count": 198,
   "metadata": {},
   "outputs": [],
   "source": [
    "import glob, re, sys\n",
    "import numpy as np\n",
    "import pandas as pd\n",
    "import matplotlib.pyplot as plt\n",
    "%matplotlib inline\n",
    "import seaborn as sns"
   ]
  },
  {
   "cell_type": "code",
   "execution_count": null,
   "metadata": {},
   "outputs": [],
   "source": []
  },
  {
   "cell_type": "code",
   "execution_count": 199,
   "metadata": {},
   "outputs": [],
   "source": [
    "results = []\n",
    "for fname in glob.glob('iteration*/all_affinity*.summary'):\n",
    "    \n",
    "    name = re.sub('\\.summary','', fname)\n",
    "    name = re.sub('/all_affinity_','-',name)\n",
    "    for line in open(fname):\n",
    "        vals = line.split()\n",
    "        #testset, iteration, rmse, R, S\n",
    "        if len(vals) == 5:\n",
    "            vals += [0,0,0]\n",
    "        for i in xrange(2,8):\n",
    "            vals[i] = float(vals[i])\n",
    "\n",
    "        results.append([name,name.split('-')[0]]+vals)"
   ]
  },
  {
   "cell_type": "code",
   "execution_count": 200,
   "metadata": {},
   "outputs": [],
   "source": [
    "results = pd.DataFrame(results,columns=('name','I','testset','iteration','rmse','R','S','aucpose','aucaff','top'))"
   ]
  },
  {
   "cell_type": "code",
   "execution_count": 201,
   "metadata": {},
   "outputs": [],
   "source": [
    "results = results[((results.testset == 'all_affinity') | (results.testset == 'all_pose')) & (results.aucpose != 0) & (results.I != 'iteration6') ]\n",
    "results100 = results[results.iteration == '100k']"
   ]
  },
  {
   "cell_type": "code",
   "execution_count": 202,
   "metadata": {},
   "outputs": [
    {
     "data": {
      "text/html": [
       "<div>\n",
       "<table border=\"1\" class=\"dataframe\">\n",
       "  <thead>\n",
       "    <tr style=\"text-align: right;\">\n",
       "      <th></th>\n",
       "      <th>name</th>\n",
       "      <th>I</th>\n",
       "      <th>testset</th>\n",
       "      <th>iteration</th>\n",
       "      <th>rmse</th>\n",
       "      <th>R</th>\n",
       "      <th>S</th>\n",
       "      <th>aucpose</th>\n",
       "      <th>aucaff</th>\n",
       "      <th>top</th>\n",
       "    </tr>\n",
       "  </thead>\n",
       "  <tbody>\n",
       "    <tr>\n",
       "      <th>953</th>\n",
       "      <td>iteration2-g1_p0_h0</td>\n",
       "      <td>iteration2</td>\n",
       "      <td>all_affinity</td>\n",
       "      <td>100k</td>\n",
       "      <td>1.650597</td>\n",
       "      <td>0.575963</td>\n",
       "      <td>0.579083</td>\n",
       "      <td>0.919870</td>\n",
       "      <td>0.771714</td>\n",
       "      <td>0.561282</td>\n",
       "    </tr>\n",
       "    <tr>\n",
       "      <th>2077</th>\n",
       "      <td>iteration5-32-32-32_7_1_1</td>\n",
       "      <td>iteration5</td>\n",
       "      <td>all_affinity</td>\n",
       "      <td>100k</td>\n",
       "      <td>1.662631</td>\n",
       "      <td>0.565374</td>\n",
       "      <td>0.560998</td>\n",
       "      <td>0.887932</td>\n",
       "      <td>0.746926</td>\n",
       "      <td>0.491492</td>\n",
       "    </tr>\n",
       "    <tr>\n",
       "      <th>1677</th>\n",
       "      <td>iteration4-3_32_0_7</td>\n",
       "      <td>iteration4</td>\n",
       "      <td>all_affinity</td>\n",
       "      <td>100k</td>\n",
       "      <td>1.662631</td>\n",
       "      <td>0.565374</td>\n",
       "      <td>0.560998</td>\n",
       "      <td>0.887932</td>\n",
       "      <td>0.746926</td>\n",
       "      <td>0.491492</td>\n",
       "    </tr>\n",
       "    <tr>\n",
       "      <th>637</th>\n",
       "      <td>iteration2-g2_p0_h0</td>\n",
       "      <td>iteration2</td>\n",
       "      <td>all_affinity</td>\n",
       "      <td>100k</td>\n",
       "      <td>1.668115</td>\n",
       "      <td>0.567108</td>\n",
       "      <td>0.558524</td>\n",
       "      <td>0.915495</td>\n",
       "      <td>0.749532</td>\n",
       "      <td>0.551665</td>\n",
       "    </tr>\n",
       "    <tr>\n",
       "      <th>1193</th>\n",
       "      <td>iteration2-g1_p1_h0</td>\n",
       "      <td>iteration2</td>\n",
       "      <td>all_affinity</td>\n",
       "      <td>100k</td>\n",
       "      <td>1.670774</td>\n",
       "      <td>0.568650</td>\n",
       "      <td>0.571575</td>\n",
       "      <td>0.920238</td>\n",
       "      <td>0.805854</td>\n",
       "      <td>0.595314</td>\n",
       "    </tr>\n",
       "  </tbody>\n",
       "</table>\n",
       "</div>"
      ],
      "text/plain": [
       "                           name           I       testset iteration      rmse  \\\n",
       "953         iteration2-g1_p0_h0  iteration2  all_affinity      100k  1.650597   \n",
       "2077  iteration5-32-32-32_7_1_1  iteration5  all_affinity      100k  1.662631   \n",
       "1677        iteration4-3_32_0_7  iteration4  all_affinity      100k  1.662631   \n",
       "637         iteration2-g2_p0_h0  iteration2  all_affinity      100k  1.668115   \n",
       "1193        iteration2-g1_p1_h0  iteration2  all_affinity      100k  1.670774   \n",
       "\n",
       "             R         S   aucpose    aucaff       top  \n",
       "953   0.575963  0.579083  0.919870  0.771714  0.561282  \n",
       "2077  0.565374  0.560998  0.887932  0.746926  0.491492  \n",
       "1677  0.565374  0.560998  0.887932  0.746926  0.491492  \n",
       "637   0.567108  0.558524  0.915495  0.749532  0.551665  \n",
       "1193  0.568650  0.571575  0.920238  0.805854  0.595314  "
      ]
     },
     "execution_count": 202,
     "metadata": {},
     "output_type": "execute_result"
    }
   ],
   "source": [
    "results100.sort_values(by='rmse')[:5]"
   ]
  },
  {
   "cell_type": "code",
   "execution_count": 203,
   "metadata": {},
   "outputs": [
    {
     "data": {
      "text/html": [
       "<div>\n",
       "<table border=\"1\" class=\"dataframe\">\n",
       "  <thead>\n",
       "    <tr style=\"text-align: right;\">\n",
       "      <th></th>\n",
       "      <th>name</th>\n",
       "      <th>I</th>\n",
       "      <th>testset</th>\n",
       "      <th>iteration</th>\n",
       "      <th>rmse</th>\n",
       "      <th>R</th>\n",
       "      <th>S</th>\n",
       "      <th>aucpose</th>\n",
       "      <th>aucaff</th>\n",
       "      <th>top</th>\n",
       "    </tr>\n",
       "  </thead>\n",
       "  <tbody>\n",
       "    <tr>\n",
       "      <th>443</th>\n",
       "      <td>iteration1-p1_rec0_astrat0_b1</td>\n",
       "      <td>iteration1</td>\n",
       "      <td>all_affinity</td>\n",
       "      <td>100k</td>\n",
       "      <td>1.732900</td>\n",
       "      <td>0.532962</td>\n",
       "      <td>0.550466</td>\n",
       "      <td>0.925966</td>\n",
       "      <td>0.785106</td>\n",
       "      <td>0.528977</td>\n",
       "    </tr>\n",
       "    <tr>\n",
       "      <th>442</th>\n",
       "      <td>iteration1-p1_rec0_astrat0_b1</td>\n",
       "      <td>iteration1</td>\n",
       "      <td>all_pose</td>\n",
       "      <td>100k</td>\n",
       "      <td>1.749490</td>\n",
       "      <td>0.524212</td>\n",
       "      <td>0.540142</td>\n",
       "      <td>0.925966</td>\n",
       "      <td>0.785106</td>\n",
       "      <td>0.634279</td>\n",
       "    </tr>\n",
       "    <tr>\n",
       "      <th>1081</th>\n",
       "      <td>iteration2-g2_p2_h0</td>\n",
       "      <td>iteration2</td>\n",
       "      <td>all_affinity</td>\n",
       "      <td>100k</td>\n",
       "      <td>1.704713</td>\n",
       "      <td>0.558476</td>\n",
       "      <td>0.557435</td>\n",
       "      <td>0.922099</td>\n",
       "      <td>0.823510</td>\n",
       "      <td>0.610851</td>\n",
       "    </tr>\n",
       "    <tr>\n",
       "      <th>1080</th>\n",
       "      <td>iteration2-g2_p2_h0</td>\n",
       "      <td>iteration2</td>\n",
       "      <td>all_pose</td>\n",
       "      <td>100k</td>\n",
       "      <td>1.738621</td>\n",
       "      <td>0.546849</td>\n",
       "      <td>0.546129</td>\n",
       "      <td>0.922099</td>\n",
       "      <td>0.823510</td>\n",
       "      <td>0.618002</td>\n",
       "    </tr>\n",
       "    <tr>\n",
       "      <th>2416</th>\n",
       "      <td>iteration3-none_relu_lr0.010</td>\n",
       "      <td>iteration3</td>\n",
       "      <td>all_pose</td>\n",
       "      <td>100k</td>\n",
       "      <td>1.694823</td>\n",
       "      <td>0.543292</td>\n",
       "      <td>0.541804</td>\n",
       "      <td>0.921432</td>\n",
       "      <td>0.776856</td>\n",
       "      <td>0.630826</td>\n",
       "    </tr>\n",
       "  </tbody>\n",
       "</table>\n",
       "</div>"
      ],
      "text/plain": [
       "                               name           I       testset iteration  \\\n",
       "443   iteration1-p1_rec0_astrat0_b1  iteration1  all_affinity      100k   \n",
       "442   iteration1-p1_rec0_astrat0_b1  iteration1      all_pose      100k   \n",
       "1081            iteration2-g2_p2_h0  iteration2  all_affinity      100k   \n",
       "1080            iteration2-g2_p2_h0  iteration2      all_pose      100k   \n",
       "2416   iteration3-none_relu_lr0.010  iteration3      all_pose      100k   \n",
       "\n",
       "          rmse         R         S   aucpose    aucaff       top  \n",
       "443   1.732900  0.532962  0.550466  0.925966  0.785106  0.528977  \n",
       "442   1.749490  0.524212  0.540142  0.925966  0.785106  0.634279  \n",
       "1081  1.704713  0.558476  0.557435  0.922099  0.823510  0.610851  \n",
       "1080  1.738621  0.546849  0.546129  0.922099  0.823510  0.618002  \n",
       "2416  1.694823  0.543292  0.541804  0.921432  0.776856  0.630826  "
      ]
     },
     "execution_count": 203,
     "metadata": {},
     "output_type": "execute_result"
    }
   ],
   "source": [
    "results100.sort_values(by='aucpose',ascending=False)[:5]"
   ]
  },
  {
   "cell_type": "code",
   "execution_count": 204,
   "metadata": {},
   "outputs": [
    {
     "data": {
      "text/html": [
       "<div>\n",
       "<table border=\"1\" class=\"dataframe\">\n",
       "  <thead>\n",
       "    <tr style=\"text-align: right;\">\n",
       "      <th></th>\n",
       "      <th>name</th>\n",
       "      <th>I</th>\n",
       "      <th>testset</th>\n",
       "      <th>iteration</th>\n",
       "      <th>rmse</th>\n",
       "      <th>R</th>\n",
       "      <th>S</th>\n",
       "      <th>aucpose</th>\n",
       "      <th>aucaff</th>\n",
       "      <th>top</th>\n",
       "    </tr>\n",
       "  </thead>\n",
       "  <tbody>\n",
       "    <tr>\n",
       "      <th>2108</th>\n",
       "      <td>iteration3-batch_relu_lr0.010</td>\n",
       "      <td>iteration3</td>\n",
       "      <td>all_pose</td>\n",
       "      <td>100k</td>\n",
       "      <td>1.693488</td>\n",
       "      <td>0.553803</td>\n",
       "      <td>0.551250</td>\n",
       "      <td>0.916430</td>\n",
       "      <td>0.762815</td>\n",
       "      <td>0.656720</td>\n",
       "    </tr>\n",
       "    <tr>\n",
       "      <th>2572</th>\n",
       "      <td>iteration3-batch_leaky_lr0.010</td>\n",
       "      <td>iteration3</td>\n",
       "      <td>all_pose</td>\n",
       "      <td>100k</td>\n",
       "      <td>1.702117</td>\n",
       "      <td>0.546954</td>\n",
       "      <td>0.535193</td>\n",
       "      <td>0.914155</td>\n",
       "      <td>0.761463</td>\n",
       "      <td>0.651788</td>\n",
       "    </tr>\n",
       "    <tr>\n",
       "      <th>2660</th>\n",
       "      <td>iteration4.6-0.010_1_Adam_0.010</td>\n",
       "      <td>iteration4.6</td>\n",
       "      <td>all_pose</td>\n",
       "      <td>100k</td>\n",
       "      <td>1.749769</td>\n",
       "      <td>0.531438</td>\n",
       "      <td>0.534019</td>\n",
       "      <td>0.917711</td>\n",
       "      <td>0.770594</td>\n",
       "      <td>0.645869</td>\n",
       "    </tr>\n",
       "    <tr>\n",
       "      <th>2400</th>\n",
       "      <td>iteration3-batch_tanh_lr0.010</td>\n",
       "      <td>iteration3</td>\n",
       "      <td>all_pose</td>\n",
       "      <td>100k</td>\n",
       "      <td>1.741043</td>\n",
       "      <td>0.512958</td>\n",
       "      <td>0.504249</td>\n",
       "      <td>0.887398</td>\n",
       "      <td>0.761664</td>\n",
       "      <td>0.641184</td>\n",
       "    </tr>\n",
       "    <tr>\n",
       "      <th>1948</th>\n",
       "      <td>iteration5-64-32-16_3_1_1</td>\n",
       "      <td>iteration5</td>\n",
       "      <td>all_pose</td>\n",
       "      <td>100k</td>\n",
       "      <td>1.721907</td>\n",
       "      <td>0.528304</td>\n",
       "      <td>0.516657</td>\n",
       "      <td>0.910429</td>\n",
       "      <td>0.742457</td>\n",
       "      <td>0.640937</td>\n",
       "    </tr>\n",
       "  </tbody>\n",
       "</table>\n",
       "</div>"
      ],
      "text/plain": [
       "                                 name             I   testset iteration  \\\n",
       "2108    iteration3-batch_relu_lr0.010    iteration3  all_pose      100k   \n",
       "2572   iteration3-batch_leaky_lr0.010    iteration3  all_pose      100k   \n",
       "2660  iteration4.6-0.010_1_Adam_0.010  iteration4.6  all_pose      100k   \n",
       "2400    iteration3-batch_tanh_lr0.010    iteration3  all_pose      100k   \n",
       "1948        iteration5-64-32-16_3_1_1    iteration5  all_pose      100k   \n",
       "\n",
       "          rmse         R         S   aucpose    aucaff       top  \n",
       "2108  1.693488  0.553803  0.551250  0.916430  0.762815  0.656720  \n",
       "2572  1.702117  0.546954  0.535193  0.914155  0.761463  0.651788  \n",
       "2660  1.749769  0.531438  0.534019  0.917711  0.770594  0.645869  \n",
       "2400  1.741043  0.512958  0.504249  0.887398  0.761664  0.641184  \n",
       "1948  1.721907  0.528304  0.516657  0.910429  0.742457  0.640937  "
      ]
     },
     "execution_count": 204,
     "metadata": {},
     "output_type": "execute_result"
    }
   ],
   "source": [
    "results100.sort_values(by='top',ascending=False)[:5]"
   ]
  },
  {
   "cell_type": "code",
   "execution_count": 205,
   "metadata": {},
   "outputs": [
    {
     "data": {
      "text/plain": [
       "<seaborn.axisgrid.JointGrid at 0x7fb95affebd0>"
      ]
     },
     "execution_count": 205,
     "metadata": {},
     "output_type": "execute_result"
    },
    {
     "data": {
      "image/png": "[encoded data removed]",
      "text/plain": [
       "<matplotlib.figure.Figure at 0x7fb95affea50>"
      ]
     },
     "metadata": {},
     "output_type": "display_data"
    }
   ],
   "source": [
    "sns.jointplot(x='rmse',y='R',data=results100,alpha=.5,xlim=(1.5,2.5),ylim=(.25,.6))"
   ]
  },
  {
   "cell_type": "code",
   "execution_count": 207,
   "metadata": {},
   "outputs": [
    {
     "data": {
      "text/plain": [
       "<seaborn.axisgrid.JointGrid at 0x7fb95bf15bd0>"
      ]
     },
     "execution_count": 207,
     "metadata": {},
     "output_type": "execute_result"
    },
    {
     "data": {
      "image/png": "[encoded data removed]",
      "text/plain": [
       "<matplotlib.figure.Figure at 0x7fb95bf15150>"
      ]
     },
     "metadata": {},
     "output_type": "display_data"
    }
   ],
   "source": [
    "sns.jointplot(x='S',y='R',data=results100,alpha=.5)"
   ]
  },
  {
   "cell_type": "code",
   "execution_count": 150,
   "metadata": {},
   "outputs": [
    {
     "data": {
      "text/plain": [
       "<seaborn.axisgrid.JointGrid at 0x7fb95c794090>"
      ]
     },
     "execution_count": 150,
     "metadata": {},
     "output_type": "execute_result"
    },
    {
     "data": {
      "image/png": "[encoded data removed]",
      "text/plain": [
       "<matplotlib.figure.Figure at 0x7fb95ebc5790>"
      ]
     },
     "metadata": {},
     "output_type": "display_data"
    }
   ],
   "source": [
    "sns.jointplot(x='rmse',y='aucpose',data=results100,alpha=.5,xlim=(1.5,2.5))"
   ]
  },
  {
   "cell_type": "code",
   "execution_count": 151,
   "metadata": {},
   "outputs": [
    {
     "data": {
      "text/plain": [
       "<seaborn.axisgrid.JointGrid at 0x7fb95c41ce90>"
      ]
     },
     "execution_count": 151,
     "metadata": {},
     "output_type": "execute_result"
    },
    {
     "data": {
      "image/png": "[encoded data removed]",
      "text/plain": [
       "<matplotlib.figure.Figure at 0x7fb95c41ccd0>"
      ]
     },
     "metadata": {},
     "output_type": "display_data"
    }
   ],
   "source": [
    "sns.jointplot(x='rmse',y='top',data=results100,alpha=.5,xlim=(1.5,2.5))"
   ]
  },
  {
   "cell_type": "code",
   "execution_count": 209,
   "metadata": {},
   "outputs": [
    {
     "data": {
      "text/plain": [
       "<seaborn.axisgrid.JointGrid at 0x7fb95a560190>"
      ]
     },
     "execution_count": 209,
     "metadata": {},
     "output_type": "execute_result"
    },
    {
     "data": {
      "image/png": "[encoded data removed]",
      "text/plain": [
       "<matplotlib.figure.Figure at 0x7fb95a560590>"
      ]
     },
     "metadata": {},
     "output_type": "display_data"
    }
   ],
   "source": [
    "sns.jointplot(x='aucpose',y='top',data=results100,alpha=.5)"
   ]
  },
  {
   "cell_type": "code",
   "execution_count": 152,
   "metadata": {},
   "outputs": [],
   "source": [
    "# thank you stack overflow\n",
    "\n",
    "def is_pareto_efficient_dumb(costs):\n",
    "    \"\"\"\n",
    "    :param costs: An (n_points, n_costs) array\n",
    "    :return: A (n_points, ) boolean array, indicating whether each point is Pareto efficient\n",
    "    \"\"\"\n",
    "    is_efficient = np.ones(costs.shape[0], dtype = bool)\n",
    "    for i, c in enumerate(costs):\n",
    "        is_efficient[i] = np.all(np.any(costs>=c, axis=1))\n",
    "    return is_efficient"
   ]
  },
  {
   "cell_type": "code",
   "execution_count": 153,
   "metadata": {},
   "outputs": [],
   "source": [
    "costs = np.array(results100[['rmse','aucpose','top','R']])\n",
    "costs[:,1:] *= -1\n",
    "pareto = is_pareto_efficient_dumb(costs)"
   ]
  },
  {
   "cell_type": "code",
   "execution_count": 154,
   "metadata": {},
   "outputs": [
    {
     "data": {
      "text/plain": [
       "[<matplotlib.lines.Line2D at 0x7fb95c0176d0>]"
      ]
     },
     "execution_count": 154,
     "metadata": {},
     "output_type": "execute_result"
    },
    {
     "data": {
      "image/png": "[encoded data removed]",
      "text/plain": [
       "<matplotlib.figure.Figure at 0x7fb95cd1a0d0>"
      ]
     },
     "metadata": {},
     "output_type": "display_data"
    }
   ],
   "source": [
    "p = results100[pareto]\n",
    "plt.plot(p.rmse,p.aucpose,'o')"
   ]
  },
  {
   "cell_type": "code",
   "execution_count": 155,
   "metadata": {},
   "outputs": [],
   "source": [
    "r = results100[results100.testset == 'all_pose']\n",
    "costs = np.array(r[['top','S']])*-1\n",
    "pareto = is_pareto_efficient_dumb(costs)\n",
    "p = r[pareto]"
   ]
  },
  {
   "cell_type": "code",
   "execution_count": 156,
   "metadata": {},
   "outputs": [],
   "source": [
    "ra = results100[results100.testset == 'all_affinity']\n",
    "costs = np.array(ra[['top','S']])*-1\n",
    "paretoa = is_pareto_efficient_dumb(costs)\n",
    "pa = ra[paretoa]"
   ]
  },
  {
   "cell_type": "code",
   "execution_count": 157,
   "metadata": {},
   "outputs": [
    {
     "data": {
      "text/plain": [
       "(0.5, 0.6138508802164)"
      ]
     },
     "execution_count": 157,
     "metadata": {},
     "output_type": "execute_result"
    },
    {
     "data": {
      "image/png": "[encoded data removed]",
      "text/plain": [
       "<matplotlib.figure.Figure at 0x7fb95c057610>"
      ]
     },
     "metadata": {},
     "output_type": "display_data"
    }
   ],
   "source": [
    "plt.plot(results100.top,results100.S,'o',alpha=.2)\n",
    "\n",
    "plt.plot(p.top,p.S,'o')\n",
    "plt.plot(pa.top,pa.S,'o',alpha=.5)\n",
    "plt.xlabel('Top')\n",
    "plt.ylabel('S')\n",
    "plt.xlim(.5)\n",
    "plt.ylim(.5)"
   ]
  },
  {
   "cell_type": "code",
   "execution_count": 161,
   "metadata": {},
   "outputs": [
    {
     "data": {
      "text/plain": [
       "(0.5, 0.59300561839379995)"
      ]
     },
     "execution_count": 161,
     "metadata": {},
     "output_type": "execute_result"
    },
    {
     "data": {
      "image/png": "[encoded data removed]",
      "text/plain": [
       "<matplotlib.figure.Figure at 0x7fb95bf57610>"
      ]
     },
     "metadata": {},
     "output_type": "display_data"
    }
   ],
   "source": [
    "plt.plot(r.top,r.S,'o',alpha=.2)\n",
    "\n",
    "plt.plot(p.top,p.S,'o')\n",
    "#plt.plot(pa.top,pa.S,'o',alpha=.5)\n",
    "plt.xlabel('Top')\n",
    "plt.ylabel('S')\n",
    "plt.xlim(.5)\n",
    "plt.ylim(.5)"
   ]
  },
  {
   "cell_type": "code",
   "execution_count": 144,
   "metadata": {},
   "outputs": [
    {
     "data": {
      "text/html": [
       "<div>\n",
       "<table border=\"1\" class=\"dataframe\">\n",
       "  <thead>\n",
       "    <tr style=\"text-align: right;\">\n",
       "      <th></th>\n",
       "      <th>name</th>\n",
       "      <th>I</th>\n",
       "      <th>testset</th>\n",
       "      <th>iteration</th>\n",
       "      <th>rmse</th>\n",
       "      <th>R</th>\n",
       "      <th>S</th>\n",
       "      <th>aucpose</th>\n",
       "      <th>aucaff</th>\n",
       "      <th>top</th>\n",
       "    </tr>\n",
       "  </thead>\n",
       "  <tbody>\n",
       "    <tr>\n",
       "      <th>952</th>\n",
       "      <td>iteration2-g1_p0_h0</td>\n",
       "      <td>iteration2</td>\n",
       "      <td>all_pose</td>\n",
       "      <td>100k</td>\n",
       "      <td>1.678961</td>\n",
       "      <td>0.559362</td>\n",
       "      <td>0.559834</td>\n",
       "      <td>0.919870</td>\n",
       "      <td>0.771714</td>\n",
       "      <td>0.619729</td>\n",
       "    </tr>\n",
       "    <tr>\n",
       "      <th>1192</th>\n",
       "      <td>iteration2-g1_p1_h0</td>\n",
       "      <td>iteration2</td>\n",
       "      <td>all_pose</td>\n",
       "      <td>100k</td>\n",
       "      <td>1.704754</td>\n",
       "      <td>0.554418</td>\n",
       "      <td>0.556157</td>\n",
       "      <td>0.920238</td>\n",
       "      <td>0.805854</td>\n",
       "      <td>0.626387</td>\n",
       "    </tr>\n",
       "    <tr>\n",
       "      <th>540</th>\n",
       "      <td>iteration2-g2_p1_h0</td>\n",
       "      <td>iteration2</td>\n",
       "      <td>all_pose</td>\n",
       "      <td>100k</td>\n",
       "      <td>1.701453</td>\n",
       "      <td>0.552951</td>\n",
       "      <td>0.552811</td>\n",
       "      <td>0.919297</td>\n",
       "      <td>0.801777</td>\n",
       "      <td>0.637731</td>\n",
       "    </tr>\n",
       "    <tr>\n",
       "      <th>2108</th>\n",
       "      <td>iteration3-batch_relu_lr0.010</td>\n",
       "      <td>iteration3</td>\n",
       "      <td>all_pose</td>\n",
       "      <td>100k</td>\n",
       "      <td>1.693488</td>\n",
       "      <td>0.553803</td>\n",
       "      <td>0.551250</td>\n",
       "      <td>0.916430</td>\n",
       "      <td>0.762815</td>\n",
       "      <td>0.656720</td>\n",
       "    </tr>\n",
       "    <tr>\n",
       "      <th>276</th>\n",
       "      <td>iteration6-0.250_conv4_pool1_grouped0_func1_swap0</td>\n",
       "      <td>iteration6</td>\n",
       "      <td>all_pose</td>\n",
       "      <td>100k</td>\n",
       "      <td>1.707395</td>\n",
       "      <td>0.531778</td>\n",
       "      <td>0.529454</td>\n",
       "      <td>0.910258</td>\n",
       "      <td>0.748140</td>\n",
       "      <td>0.669544</td>\n",
       "    </tr>\n",
       "  </tbody>\n",
       "</table>\n",
       "</div>"
      ],
      "text/plain": [
       "                                                   name           I   testset  \\\n",
       "952                                 iteration2-g1_p0_h0  iteration2  all_pose   \n",
       "1192                                iteration2-g1_p1_h0  iteration2  all_pose   \n",
       "540                                 iteration2-g2_p1_h0  iteration2  all_pose   \n",
       "2108                      iteration3-batch_relu_lr0.010  iteration3  all_pose   \n",
       "276   iteration6-0.250_conv4_pool1_grouped0_func1_swap0  iteration6  all_pose   \n",
       "\n",
       "     iteration      rmse         R         S   aucpose    aucaff       top  \n",
       "952       100k  1.678961  0.559362  0.559834  0.919870  0.771714  0.619729  \n",
       "1192      100k  1.704754  0.554418  0.556157  0.920238  0.805854  0.626387  \n",
       "540       100k  1.701453  0.552951  0.552811  0.919297  0.801777  0.637731  \n",
       "2108      100k  1.693488  0.553803  0.551250  0.916430  0.762815  0.656720  \n",
       "276       100k  1.707395  0.531778  0.529454  0.910258  0.748140  0.669544  "
      ]
     },
     "execution_count": 144,
     "metadata": {},
     "output_type": "execute_result"
    }
   ],
   "source": [
    "p.sort_values('top')"
   ]
  },
  {
   "cell_type": "code",
   "execution_count": 158,
   "metadata": {},
   "outputs": [
    {
     "data": {
      "text/html": [
       "<div>\n",
       "<table border=\"1\" class=\"dataframe\">\n",
       "  <thead>\n",
       "    <tr style=\"text-align: right;\">\n",
       "      <th></th>\n",
       "      <th>name</th>\n",
       "      <th>I</th>\n",
       "      <th>testset</th>\n",
       "      <th>iteration</th>\n",
       "      <th>rmse</th>\n",
       "      <th>R</th>\n",
       "      <th>S</th>\n",
       "      <th>aucpose</th>\n",
       "      <th>aucaff</th>\n",
       "      <th>top</th>\n",
       "    </tr>\n",
       "  </thead>\n",
       "  <tbody>\n",
       "    <tr>\n",
       "      <th>953</th>\n",
       "      <td>iteration2-g1_p0_h0</td>\n",
       "      <td>iteration2</td>\n",
       "      <td>all_affinity</td>\n",
       "      <td>100k</td>\n",
       "      <td>1.650597</td>\n",
       "      <td>0.575963</td>\n",
       "      <td>0.579083</td>\n",
       "      <td>0.919870</td>\n",
       "      <td>0.771714</td>\n",
       "      <td>0.561282</td>\n",
       "    </tr>\n",
       "    <tr>\n",
       "      <th>1193</th>\n",
       "      <td>iteration2-g1_p1_h0</td>\n",
       "      <td>iteration2</td>\n",
       "      <td>all_affinity</td>\n",
       "      <td>100k</td>\n",
       "      <td>1.670774</td>\n",
       "      <td>0.568650</td>\n",
       "      <td>0.571575</td>\n",
       "      <td>0.920238</td>\n",
       "      <td>0.805854</td>\n",
       "      <td>0.595314</td>\n",
       "    </tr>\n",
       "    <tr>\n",
       "      <th>541</th>\n",
       "      <td>iteration2-g2_p1_h0</td>\n",
       "      <td>iteration2</td>\n",
       "      <td>all_affinity</td>\n",
       "      <td>100k</td>\n",
       "      <td>1.671064</td>\n",
       "      <td>0.566444</td>\n",
       "      <td>0.567625</td>\n",
       "      <td>0.919297</td>\n",
       "      <td>0.801777</td>\n",
       "      <td>0.606905</td>\n",
       "    </tr>\n",
       "    <tr>\n",
       "      <th>1081</th>\n",
       "      <td>iteration2-g2_p2_h0</td>\n",
       "      <td>iteration2</td>\n",
       "      <td>all_affinity</td>\n",
       "      <td>100k</td>\n",
       "      <td>1.704713</td>\n",
       "      <td>0.558476</td>\n",
       "      <td>0.557435</td>\n",
       "      <td>0.922099</td>\n",
       "      <td>0.823510</td>\n",
       "      <td>0.610851</td>\n",
       "    </tr>\n",
       "    <tr>\n",
       "      <th>1049</th>\n",
       "      <td>iteration2-g1_p4_h6</td>\n",
       "      <td>iteration2</td>\n",
       "      <td>all_affinity</td>\n",
       "      <td>100k</td>\n",
       "      <td>1.728620</td>\n",
       "      <td>0.551862</td>\n",
       "      <td>0.545324</td>\n",
       "      <td>0.917875</td>\n",
       "      <td>0.822993</td>\n",
       "      <td>0.612330</td>\n",
       "    </tr>\n",
       "    <tr>\n",
       "      <th>1321</th>\n",
       "      <td>iteration2-g2_p4_h0</td>\n",
       "      <td>iteration2</td>\n",
       "      <td>all_affinity</td>\n",
       "      <td>100k</td>\n",
       "      <td>1.773668</td>\n",
       "      <td>0.540626</td>\n",
       "      <td>0.540151</td>\n",
       "      <td>0.917587</td>\n",
       "      <td>0.832073</td>\n",
       "      <td>0.620715</td>\n",
       "    </tr>\n",
       "    <tr>\n",
       "      <th>857</th>\n",
       "      <td>iteration2-g1_p4_h0</td>\n",
       "      <td>iteration2</td>\n",
       "      <td>all_affinity</td>\n",
       "      <td>100k</td>\n",
       "      <td>1.781914</td>\n",
       "      <td>0.528489</td>\n",
       "      <td>0.521414</td>\n",
       "      <td>0.916916</td>\n",
       "      <td>0.830906</td>\n",
       "      <td>0.630086</td>\n",
       "    </tr>\n",
       "  </tbody>\n",
       "</table>\n",
       "</div>"
      ],
      "text/plain": [
       "                     name           I       testset iteration      rmse  \\\n",
       "953   iteration2-g1_p0_h0  iteration2  all_affinity      100k  1.650597   \n",
       "1193  iteration2-g1_p1_h0  iteration2  all_affinity      100k  1.670774   \n",
       "541   iteration2-g2_p1_h0  iteration2  all_affinity      100k  1.671064   \n",
       "1081  iteration2-g2_p2_h0  iteration2  all_affinity      100k  1.704713   \n",
       "1049  iteration2-g1_p4_h6  iteration2  all_affinity      100k  1.728620   \n",
       "1321  iteration2-g2_p4_h0  iteration2  all_affinity      100k  1.773668   \n",
       "857   iteration2-g1_p4_h0  iteration2  all_affinity      100k  1.781914   \n",
       "\n",
       "             R         S   aucpose    aucaff       top  \n",
       "953   0.575963  0.579083  0.919870  0.771714  0.561282  \n",
       "1193  0.568650  0.571575  0.920238  0.805854  0.595314  \n",
       "541   0.566444  0.567625  0.919297  0.801777  0.606905  \n",
       "1081  0.558476  0.557435  0.922099  0.823510  0.610851  \n",
       "1049  0.551862  0.545324  0.917875  0.822993  0.612330  \n",
       "1321  0.540626  0.540151  0.917587  0.832073  0.620715  \n",
       "857   0.528489  0.521414  0.916916  0.830906  0.630086  "
      ]
     },
     "execution_count": 158,
     "metadata": {},
     "output_type": "execute_result"
    }
   ],
   "source": [
    "pa.sort_values('top')"
   ]
  },
  {
   "cell_type": "code",
   "execution_count": 165,
   "metadata": {},
   "outputs": [
    {
     "data": {
      "text/plain": [
       "<matplotlib.figure.Figure at 0x7fb95ddea990>"
      ]
     },
     "metadata": {},
     "output_type": "display_data"
    },
    {
     "data": {
      "image/png": "[encoded data removed]",
      "text/plain": [
       "<matplotlib.figure.Figure at 0x7fb95d8e3590>"
      ]
     },
     "metadata": {},
     "output_type": "display_data"
    }
   ],
   "source": [
    "plt.figure(figsize=(12,12))\n",
    "sns.lmplot(x='top',y='R',data=results100[results100.testset == 'all_pose'],fit_reg=False,hue='I',scatter_kws={'alpha':0.6})\n",
    "plt.xlim(.5)\n",
    "plt.ylim(.5)\n",
    "plt.savefig('iterations.pdf',bbox_inches='tight')"
   ]
  },
  {
   "cell_type": "code",
   "execution_count": 170,
   "metadata": {
    "scrolled": true
   },
   "outputs": [],
   "source": [
    "sdata = pd.read_csv('search_data.csv') # created with extractres.py"
   ]
  },
  {
   "cell_type": "code",
   "execution_count": 173,
   "metadata": {},
   "outputs": [
    {
     "data": {
      "text/plain": [
       "<matplotlib.axes._subplots.AxesSubplot at 0x7fb95bbcb410>"
      ]
     },
     "execution_count": 173,
     "metadata": {},
     "output_type": "execute_result"
    },
    {
     "data": {
      "image/png": "[encoded data removed]",
      "text/plain": [
       "<matplotlib.figure.Figure at 0x7fb95bbf7bd0>"
      ]
     },
     "metadata": {},
     "output_type": "display_data"
    }
   ],
   "source": [
    "sns.distplot(sdata.R)"
   ]
  },
  {
   "cell_type": "code",
   "execution_count": 174,
   "metadata": {},
   "outputs": [
    {
     "data": {
      "text/plain": [
       "<matplotlib.axes._subplots.AxesSubplot at 0x7fb95ba6ca90>"
      ]
     },
     "execution_count": 174,
     "metadata": {},
     "output_type": "execute_result"
    },
    {
     "data": {
      "image/png": "[encoded data removed]",
      "text/plain": [
       "<matplotlib.figure.Figure at 0x7fb95ba13950>"
      ]
     },
     "metadata": {},
     "output_type": "display_data"
    }
   ],
   "source": [
    "sns.distplot(sdata.top)"
   ]
  },
  {
   "cell_type": "code",
   "execution_count": 177,
   "metadata": {},
   "outputs": [
    {
     "data": {
      "text/plain": [
       "<matplotlib.axes._subplots.AxesSubplot at 0x7fb95b59c510>"
      ]
     },
     "execution_count": 177,
     "metadata": {},
     "output_type": "execute_result"
    },
    {
     "data": {
      "image/png": "[encoded data removed]",
      "text/plain": [
       "<matplotlib.figure.Figure at 0x7fb95b5b46d0>"
      ]
     },
     "metadata": {},
     "output_type": "display_data"
    }
   ],
   "source": [
    "sns.distplot(sdata.rmse)"
   ]
  },
  {
   "cell_type": "code",
   "execution_count": 178,
   "metadata": {},
   "outputs": [
    {
     "data": {
      "text/plain": [
       "0.71763255240400003"
      ]
     },
     "execution_count": 178,
     "metadata": {},
     "output_type": "execute_result"
    }
   ],
   "source": [
    "sdata.top.max()"
   ]
  },
  {
   "cell_type": "code",
   "execution_count": 186,
   "metadata": {},
   "outputs": [
    {
     "data": {
      "text/html": [
       "<div>\n",
       "<table border=\"1\" class=\"dataframe\">\n",
       "  <thead>\n",
       "    <tr style=\"text-align: right;\">\n",
       "      <th></th>\n",
       "      <th>top</th>\n",
       "      <th>auc</th>\n",
       "      <th>R</th>\n",
       "      <th>rmse</th>\n",
       "    </tr>\n",
       "  </thead>\n",
       "  <tbody>\n",
       "    <tr>\n",
       "      <th>0</th>\n",
       "      <td>0.613317</td>\n",
       "      <td>0.914527</td>\n",
       "      <td>0.533481</td>\n",
       "      <td>1.834271</td>\n",
       "    </tr>\n",
       "    <tr>\n",
       "      <th>1</th>\n",
       "      <td>0.624168</td>\n",
       "      <td>0.921237</td>\n",
       "      <td>0.533601</td>\n",
       "      <td>1.845174</td>\n",
       "    </tr>\n",
       "    <tr>\n",
       "      <th>2</th>\n",
       "      <td>0.634279</td>\n",
       "      <td>0.925966</td>\n",
       "      <td>0.524212</td>\n",
       "      <td>1.749490</td>\n",
       "    </tr>\n",
       "    <tr>\n",
       "      <th>3</th>\n",
       "      <td>0.620222</td>\n",
       "      <td>0.915519</td>\n",
       "      <td>0.541174</td>\n",
       "      <td>1.724415</td>\n",
       "    </tr>\n",
       "    <tr>\n",
       "      <th>4</th>\n",
       "      <td>0.620222</td>\n",
       "      <td>0.915429</td>\n",
       "      <td>0.533995</td>\n",
       "      <td>1.773011</td>\n",
       "    </tr>\n",
       "    <tr>\n",
       "      <th>5</th>\n",
       "      <td>0.615536</td>\n",
       "      <td>0.915351</td>\n",
       "      <td>0.524260</td>\n",
       "      <td>1.769684</td>\n",
       "    </tr>\n",
       "    <tr>\n",
       "      <th>6</th>\n",
       "      <td>0.625401</td>\n",
       "      <td>0.914728</td>\n",
       "      <td>0.547576</td>\n",
       "      <td>1.714522</td>\n",
       "    </tr>\n",
       "    <tr>\n",
       "      <th>7</th>\n",
       "      <td>0.637731</td>\n",
       "      <td>0.919297</td>\n",
       "      <td>0.552951</td>\n",
       "      <td>1.701453</td>\n",
       "    </tr>\n",
       "    <tr>\n",
       "      <th>8</th>\n",
       "      <td>0.617263</td>\n",
       "      <td>0.915837</td>\n",
       "      <td>0.538066</td>\n",
       "      <td>1.742812</td>\n",
       "    </tr>\n",
       "    <tr>\n",
       "      <th>9</th>\n",
       "      <td>0.614303</td>\n",
       "      <td>0.912644</td>\n",
       "      <td>0.519095</td>\n",
       "      <td>1.789310</td>\n",
       "    </tr>\n",
       "    <tr>\n",
       "      <th>10</th>\n",
       "      <td>0.615290</td>\n",
       "      <td>0.913756</td>\n",
       "      <td>0.527857</td>\n",
       "      <td>1.773695</td>\n",
       "    </tr>\n",
       "    <tr>\n",
       "      <th>11</th>\n",
       "      <td>0.621702</td>\n",
       "      <td>0.914838</td>\n",
       "      <td>0.534740</td>\n",
       "      <td>1.738086</td>\n",
       "    </tr>\n",
       "    <tr>\n",
       "      <th>12</th>\n",
       "      <td>0.622935</td>\n",
       "      <td>0.912770</td>\n",
       "      <td>0.553804</td>\n",
       "      <td>1.693084</td>\n",
       "    </tr>\n",
       "    <tr>\n",
       "      <th>13</th>\n",
       "      <td>0.616769</td>\n",
       "      <td>0.915495</td>\n",
       "      <td>0.560087</td>\n",
       "      <td>1.675865</td>\n",
       "    </tr>\n",
       "    <tr>\n",
       "      <th>14</th>\n",
       "      <td>0.638224</td>\n",
       "      <td>0.919930</td>\n",
       "      <td>0.519556</td>\n",
       "      <td>1.801691</td>\n",
       "    </tr>\n",
       "    <tr>\n",
       "      <th>15</th>\n",
       "      <td>0.618496</td>\n",
       "      <td>0.912853</td>\n",
       "      <td>0.535448</td>\n",
       "      <td>1.762682</td>\n",
       "    </tr>\n",
       "    <tr>\n",
       "      <th>16</th>\n",
       "      <td>0.619482</td>\n",
       "      <td>0.916119</td>\n",
       "      <td>0.537531</td>\n",
       "      <td>1.757615</td>\n",
       "    </tr>\n",
       "    <tr>\n",
       "      <th>17</th>\n",
       "      <td>0.619975</td>\n",
       "      <td>0.914318</td>\n",
       "      <td>0.523335</td>\n",
       "      <td>1.810894</td>\n",
       "    </tr>\n",
       "    <tr>\n",
       "      <th>18</th>\n",
       "      <td>0.615043</td>\n",
       "      <td>0.916189</td>\n",
       "      <td>0.523030</td>\n",
       "      <td>1.733958</td>\n",
       "    </tr>\n",
       "    <tr>\n",
       "      <th>19</th>\n",
       "      <td>0.618496</td>\n",
       "      <td>0.915021</td>\n",
       "      <td>0.519296</td>\n",
       "      <td>1.785828</td>\n",
       "    </tr>\n",
       "    <tr>\n",
       "      <th>20</th>\n",
       "      <td>0.619975</td>\n",
       "      <td>0.915519</td>\n",
       "      <td>0.541137</td>\n",
       "      <td>1.724470</td>\n",
       "    </tr>\n",
       "    <tr>\n",
       "      <th>21</th>\n",
       "      <td>0.629840</td>\n",
       "      <td>0.917853</td>\n",
       "      <td>0.537235</td>\n",
       "      <td>1.746628</td>\n",
       "    </tr>\n",
       "    <tr>\n",
       "      <th>22</th>\n",
       "      <td>0.619729</td>\n",
       "      <td>0.915976</td>\n",
       "      <td>0.533345</td>\n",
       "      <td>1.745007</td>\n",
       "    </tr>\n",
       "    <tr>\n",
       "      <th>23</th>\n",
       "      <td>0.631566</td>\n",
       "      <td>0.918258</td>\n",
       "      <td>0.538165</td>\n",
       "      <td>1.735999</td>\n",
       "    </tr>\n",
       "    <tr>\n",
       "      <th>24</th>\n",
       "      <td>0.616276</td>\n",
       "      <td>0.915368</td>\n",
       "      <td>0.539227</td>\n",
       "      <td>1.739500</td>\n",
       "    </tr>\n",
       "    <tr>\n",
       "      <th>25</th>\n",
       "      <td>0.625401</td>\n",
       "      <td>0.914734</td>\n",
       "      <td>0.529718</td>\n",
       "      <td>1.785219</td>\n",
       "    </tr>\n",
       "    <tr>\n",
       "      <th>26</th>\n",
       "      <td>0.606165</td>\n",
       "      <td>0.914652</td>\n",
       "      <td>0.541611</td>\n",
       "      <td>1.744224</td>\n",
       "    </tr>\n",
       "    <tr>\n",
       "      <th>27</th>\n",
       "      <td>0.639457</td>\n",
       "      <td>0.916916</td>\n",
       "      <td>0.515484</td>\n",
       "      <td>1.826143</td>\n",
       "    </tr>\n",
       "    <tr>\n",
       "      <th>28</th>\n",
       "      <td>0.623428</td>\n",
       "      <td>0.916626</td>\n",
       "      <td>0.535801</td>\n",
       "      <td>1.761180</td>\n",
       "    </tr>\n",
       "    <tr>\n",
       "      <th>29</th>\n",
       "      <td>0.619236</td>\n",
       "      <td>0.916240</td>\n",
       "      <td>0.536564</td>\n",
       "      <td>1.756000</td>\n",
       "    </tr>\n",
       "    <tr>\n",
       "      <th>...</th>\n",
       "      <td>...</td>\n",
       "      <td>...</td>\n",
       "      <td>...</td>\n",
       "      <td>...</td>\n",
       "    </tr>\n",
       "    <tr>\n",
       "      <th>175</th>\n",
       "      <td>0.634525</td>\n",
       "      <td>0.909422</td>\n",
       "      <td>0.532225</td>\n",
       "      <td>1.711524</td>\n",
       "    </tr>\n",
       "    <tr>\n",
       "      <th>176</th>\n",
       "      <td>0.559309</td>\n",
       "      <td>0.871853</td>\n",
       "      <td>0.554549</td>\n",
       "      <td>1.681208</td>\n",
       "    </tr>\n",
       "    <tr>\n",
       "      <th>177</th>\n",
       "      <td>0.385697</td>\n",
       "      <td>0.846831</td>\n",
       "      <td>0.512565</td>\n",
       "      <td>1.724673</td>\n",
       "    </tr>\n",
       "    <tr>\n",
       "      <th>178</th>\n",
       "      <td>0.548212</td>\n",
       "      <td>0.887932</td>\n",
       "      <td>0.558904</td>\n",
       "      <td>1.674474</td>\n",
       "    </tr>\n",
       "    <tr>\n",
       "      <th>179</th>\n",
       "      <td>0.563009</td>\n",
       "      <td>0.897871</td>\n",
       "      <td>0.513271</td>\n",
       "      <td>1.751845</td>\n",
       "    </tr>\n",
       "    <tr>\n",
       "      <th>180</th>\n",
       "      <td>0.688533</td>\n",
       "      <td>0.921800</td>\n",
       "      <td>0.545970</td>\n",
       "      <td>1.702716</td>\n",
       "    </tr>\n",
       "    <tr>\n",
       "      <th>181</th>\n",
       "      <td>0.694698</td>\n",
       "      <td>0.932548</td>\n",
       "      <td>0.563699</td>\n",
       "      <td>1.679349</td>\n",
       "    </tr>\n",
       "    <tr>\n",
       "      <th>182</th>\n",
       "      <td>0.658446</td>\n",
       "      <td>0.913884</td>\n",
       "      <td>0.546492</td>\n",
       "      <td>1.691058</td>\n",
       "    </tr>\n",
       "    <tr>\n",
       "      <th>183</th>\n",
       "      <td>0.696178</td>\n",
       "      <td>0.916064</td>\n",
       "      <td>0.545898</td>\n",
       "      <td>1.699379</td>\n",
       "    </tr>\n",
       "    <tr>\n",
       "      <th>184</th>\n",
       "      <td>0.708261</td>\n",
       "      <td>0.920734</td>\n",
       "      <td>0.576480</td>\n",
       "      <td>1.663244</td>\n",
       "    </tr>\n",
       "    <tr>\n",
       "      <th>185</th>\n",
       "      <td>0.696671</td>\n",
       "      <td>0.933664</td>\n",
       "      <td>0.586224</td>\n",
       "      <td>1.629425</td>\n",
       "    </tr>\n",
       "    <tr>\n",
       "      <th>186</th>\n",
       "      <td>0.717633</td>\n",
       "      <td>0.933611</td>\n",
       "      <td>0.579139</td>\n",
       "      <td>1.646743</td>\n",
       "    </tr>\n",
       "    <tr>\n",
       "      <th>187</th>\n",
       "      <td>0.702589</td>\n",
       "      <td>0.928618</td>\n",
       "      <td>0.536900</td>\n",
       "      <td>1.717798</td>\n",
       "    </tr>\n",
       "    <tr>\n",
       "      <th>188</th>\n",
       "      <td>0.694945</td>\n",
       "      <td>0.928164</td>\n",
       "      <td>0.575410</td>\n",
       "      <td>1.648389</td>\n",
       "    </tr>\n",
       "    <tr>\n",
       "      <th>189</th>\n",
       "      <td>0.679162</td>\n",
       "      <td>0.927451</td>\n",
       "      <td>0.542321</td>\n",
       "      <td>1.705006</td>\n",
       "    </tr>\n",
       "    <tr>\n",
       "      <th>190</th>\n",
       "      <td>0.697904</td>\n",
       "      <td>0.926328</td>\n",
       "      <td>0.549922</td>\n",
       "      <td>1.696687</td>\n",
       "    </tr>\n",
       "    <tr>\n",
       "      <th>191</th>\n",
       "      <td>0.696178</td>\n",
       "      <td>0.930033</td>\n",
       "      <td>0.583427</td>\n",
       "      <td>1.637986</td>\n",
       "    </tr>\n",
       "    <tr>\n",
       "      <th>192</th>\n",
       "      <td>0.679162</td>\n",
       "      <td>0.928100</td>\n",
       "      <td>0.554996</td>\n",
       "      <td>1.681855</td>\n",
       "    </tr>\n",
       "    <tr>\n",
       "      <th>193</th>\n",
       "      <td>0.684340</td>\n",
       "      <td>0.931879</td>\n",
       "      <td>0.585622</td>\n",
       "      <td>1.639307</td>\n",
       "    </tr>\n",
       "    <tr>\n",
       "      <th>194</th>\n",
       "      <td>0.684834</td>\n",
       "      <td>0.925412</td>\n",
       "      <td>0.557428</td>\n",
       "      <td>1.682890</td>\n",
       "    </tr>\n",
       "    <tr>\n",
       "      <th>195</th>\n",
       "      <td>0.684340</td>\n",
       "      <td>0.923530</td>\n",
       "      <td>0.541589</td>\n",
       "      <td>1.718924</td>\n",
       "    </tr>\n",
       "    <tr>\n",
       "      <th>196</th>\n",
       "      <td>0.700370</td>\n",
       "      <td>0.916046</td>\n",
       "      <td>0.531468</td>\n",
       "      <td>1.732090</td>\n",
       "    </tr>\n",
       "    <tr>\n",
       "      <th>197</th>\n",
       "      <td>0.672503</td>\n",
       "      <td>0.926666</td>\n",
       "      <td>0.562508</td>\n",
       "      <td>1.676187</td>\n",
       "    </tr>\n",
       "    <tr>\n",
       "      <th>198</th>\n",
       "      <td>0.688286</td>\n",
       "      <td>0.917091</td>\n",
       "      <td>0.537483</td>\n",
       "      <td>1.722038</td>\n",
       "    </tr>\n",
       "    <tr>\n",
       "      <th>199</th>\n",
       "      <td>0.702589</td>\n",
       "      <td>0.928618</td>\n",
       "      <td>0.536900</td>\n",
       "      <td>1.717798</td>\n",
       "    </tr>\n",
       "    <tr>\n",
       "      <th>200</th>\n",
       "      <td>0.679162</td>\n",
       "      <td>0.927451</td>\n",
       "      <td>0.542321</td>\n",
       "      <td>1.705006</td>\n",
       "    </tr>\n",
       "    <tr>\n",
       "      <th>201</th>\n",
       "      <td>0.686313</td>\n",
       "      <td>0.924801</td>\n",
       "      <td>0.553252</td>\n",
       "      <td>1.685514</td>\n",
       "    </tr>\n",
       "    <tr>\n",
       "      <th>202</th>\n",
       "      <td>0.677682</td>\n",
       "      <td>0.924081</td>\n",
       "      <td>0.567986</td>\n",
       "      <td>1.664400</td>\n",
       "    </tr>\n",
       "    <tr>\n",
       "      <th>203</th>\n",
       "      <td>0.674723</td>\n",
       "      <td>0.919748</td>\n",
       "      <td>0.559074</td>\n",
       "      <td>1.679121</td>\n",
       "    </tr>\n",
       "    <tr>\n",
       "      <th>204</th>\n",
       "      <td>0.680641</td>\n",
       "      <td>0.928221</td>\n",
       "      <td>0.588830</td>\n",
       "      <td>1.630622</td>\n",
       "    </tr>\n",
       "  </tbody>\n",
       "</table>\n",
       "<p>205 rows × 4 columns</p>\n",
       "</div>"
      ],
      "text/plain": [
       "          top       auc         R      rmse\n",
       "0    0.613317  0.914527  0.533481  1.834271\n",
       "1    0.624168  0.921237  0.533601  1.845174\n",
       "2    0.634279  0.925966  0.524212  1.749490\n",
       "3    0.620222  0.915519  0.541174  1.724415\n",
       "4    0.620222  0.915429  0.533995  1.773011\n",
       "5    0.615536  0.915351  0.524260  1.769684\n",
       "6    0.625401  0.914728  0.547576  1.714522\n",
       "7    0.637731  0.919297  0.552951  1.701453\n",
       "8    0.617263  0.915837  0.538066  1.742812\n",
       "9    0.614303  0.912644  0.519095  1.789310\n",
       "10   0.615290  0.913756  0.527857  1.773695\n",
       "11   0.621702  0.914838  0.534740  1.738086\n",
       "12   0.622935  0.912770  0.553804  1.693084\n",
       "13   0.616769  0.915495  0.560087  1.675865\n",
       "14   0.638224  0.919930  0.519556  1.801691\n",
       "15   0.618496  0.912853  0.535448  1.762682\n",
       "16   0.619482  0.916119  0.537531  1.757615\n",
       "17   0.619975  0.914318  0.523335  1.810894\n",
       "18   0.615043  0.916189  0.523030  1.733958\n",
       "19   0.618496  0.915021  0.519296  1.785828\n",
       "20   0.619975  0.915519  0.541137  1.724470\n",
       "21   0.629840  0.917853  0.537235  1.746628\n",
       "22   0.619729  0.915976  0.533345  1.745007\n",
       "23   0.631566  0.918258  0.538165  1.735999\n",
       "24   0.616276  0.915368  0.539227  1.739500\n",
       "25   0.625401  0.914734  0.529718  1.785219\n",
       "26   0.606165  0.914652  0.541611  1.744224\n",
       "27   0.639457  0.916916  0.515484  1.826143\n",
       "28   0.623428  0.916626  0.535801  1.761180\n",
       "29   0.619236  0.916240  0.536564  1.756000\n",
       "..        ...       ...       ...       ...\n",
       "175  0.634525  0.909422  0.532225  1.711524\n",
       "176  0.559309  0.871853  0.554549  1.681208\n",
       "177  0.385697  0.846831  0.512565  1.724673\n",
       "178  0.548212  0.887932  0.558904  1.674474\n",
       "179  0.563009  0.897871  0.513271  1.751845\n",
       "180  0.688533  0.921800  0.545970  1.702716\n",
       "181  0.694698  0.932548  0.563699  1.679349\n",
       "182  0.658446  0.913884  0.546492  1.691058\n",
       "183  0.696178  0.916064  0.545898  1.699379\n",
       "184  0.708261  0.920734  0.576480  1.663244\n",
       "185  0.696671  0.933664  0.586224  1.629425\n",
       "186  0.717633  0.933611  0.579139  1.646743\n",
       "187  0.702589  0.928618  0.536900  1.717798\n",
       "188  0.694945  0.928164  0.575410  1.648389\n",
       "189  0.679162  0.927451  0.542321  1.705006\n",
       "190  0.697904  0.926328  0.549922  1.696687\n",
       "191  0.696178  0.930033  0.583427  1.637986\n",
       "192  0.679162  0.928100  0.554996  1.681855\n",
       "193  0.684340  0.931879  0.585622  1.639307\n",
       "194  0.684834  0.925412  0.557428  1.682890\n",
       "195  0.684340  0.923530  0.541589  1.718924\n",
       "196  0.700370  0.916046  0.531468  1.732090\n",
       "197  0.672503  0.926666  0.562508  1.676187\n",
       "198  0.688286  0.917091  0.537483  1.722038\n",
       "199  0.702589  0.928618  0.536900  1.717798\n",
       "200  0.679162  0.927451  0.542321  1.705006\n",
       "201  0.686313  0.924801  0.553252  1.685514\n",
       "202  0.677682  0.924081  0.567986  1.664400\n",
       "203  0.674723  0.919748  0.559074  1.679121\n",
       "204  0.680641  0.928221  0.588830  1.630622\n",
       "\n",
       "[205 rows x 4 columns]"
      ]
     },
     "execution_count": 186,
     "metadata": {},
     "output_type": "execute_result"
    }
   ],
   "source": [
    "sdata.loc[:,['top','auc','R','rmse']]"
   ]
  },
  {
   "cell_type": "code",
   "execution_count": 189,
   "metadata": {},
   "outputs": [
    {
     "data": {
      "text/plain": [
       "(1, 2)"
      ]
     },
     "execution_count": 189,
     "metadata": {},
     "output_type": "execute_result"
    },
    {
     "data": {
      "image/png": "[encoded data removed]",
      "text/plain": [
       "<matplotlib.figure.Figure at 0x7fb95b106b50>"
      ]
     },
     "metadata": {},
     "output_type": "display_data"
    }
   ],
   "source": [
    "plt.plot(sdata.R,sdata.rmse,'o')\n",
    "plt.xlim(.4,.6)\n",
    "plt.ylim(1,2)"
   ]
  },
  {
   "cell_type": "code",
   "execution_count": null,
   "metadata": {},
   "outputs": [],
   "source": []
  }
 ],
 "metadata": {
  "kernelspec": {
   "display_name": "Python 2",
   "language": "python",
   "name": "python2"
  },
  "language_info": {
   "codemirror_mode": {
    "name": "ipython",
    "version": 2
   },
   "file_extension": ".py",
   "mimetype": "text/x-python",
   "name": "python",
   "nbconvert_exporter": "python",
   "pygments_lexer": "ipython2",
   "version": "2.7.12"
  }
 },
 "nbformat": 4,
 "nbformat_minor": 2
}
