{
 "cells": [
  {
   "cell_type": "code",
   "execution_count": 1,
   "metadata": {},
   "outputs": [],
   "source": [
    "import glob, re, sys\n",
    "import numpy as np\n",
    "import pandas as pd\n",
    "import matplotlib.pyplot as plt\n",
    "%matplotlib inline\n",
    "import seaborn as sns"
   ]
  },
  {
   "cell_type": "code",
   "execution_count": null,
   "metadata": {},
   "outputs": [],
   "source": []
  },
  {
   "cell_type": "code",
   "execution_count": 101,
   "metadata": {},
   "outputs": [],
   "source": [
    "results = []\n",
    "for fname in glob.glob('iteration*/all_affinity*.summary'):\n",
    "    \n",
    "    name = re.sub('\\.summary','', fname)\n",
    "    name = re.sub('/all_affinity_','-',name)\n",
    "    for line in open(fname):\n",
    "        vals = line.split()\n",
    "        #testset, iteration, rmse, R, S\n",
    "        if len(vals) == 5:\n",
    "            vals += [0,0,0]\n",
    "        for i in xrange(2,8):\n",
    "            vals[i] = float(vals[i])\n",
    "\n",
    "        results.append([name,name.split('-')[0]]+vals)"
   ]
  },
  {
   "cell_type": "code",
   "execution_count": 102,
   "metadata": {},
   "outputs": [],
   "source": [
    "results = pd.DataFrame(results,columns=('name','I','testset','iteration','rmse','R','S','aucpose','aucaff','top'))"
   ]
  },
  {
   "cell_type": "code",
   "execution_count": 145,
   "metadata": {},
   "outputs": [],
   "source": [
    "results = results[((results.testset == 'all_affinity') | (results.testset == 'all_pose')) & (results.aucpose != 0) & (results.I != 'iteration6') ]\n",
    "results100 = results[results.iteration == '100k']"
   ]
  },
  {
   "cell_type": "code",
   "execution_count": 146,
   "metadata": {},
   "outputs": [
    {
     "data": {
      "text/html": [
       "<div>\n",
       "<table border=\"1\" class=\"dataframe\">\n",
       "  <thead>\n",
       "    <tr style=\"text-align: right;\">\n",
       "      <th></th>\n",
       "      <th>name</th>\n",
       "      <th>I</th>\n",
       "      <th>testset</th>\n",
       "      <th>iteration</th>\n",
       "      <th>rmse</th>\n",
       "      <th>R</th>\n",
       "      <th>S</th>\n",
       "      <th>aucpose</th>\n",
       "      <th>aucaff</th>\n",
       "      <th>top</th>\n",
       "    </tr>\n",
       "  </thead>\n",
       "  <tbody>\n",
       "    <tr>\n",
       "      <th>953</th>\n",
       "      <td>iteration2-g1_p0_h0</td>\n",
       "      <td>iteration2</td>\n",
       "      <td>all_affinity</td>\n",
       "      <td>100k</td>\n",
       "      <td>1.650597</td>\n",
       "      <td>0.575963</td>\n",
       "      <td>0.579083</td>\n",
       "      <td>0.919870</td>\n",
       "      <td>0.771714</td>\n",
       "      <td>0.561282</td>\n",
       "    </tr>\n",
       "    <tr>\n",
       "      <th>2077</th>\n",
       "      <td>iteration5-32-32-32_7_1_1</td>\n",
       "      <td>iteration5</td>\n",
       "      <td>all_affinity</td>\n",
       "      <td>100k</td>\n",
       "      <td>1.662631</td>\n",
       "      <td>0.565374</td>\n",
       "      <td>0.560998</td>\n",
       "      <td>0.887932</td>\n",
       "      <td>0.746926</td>\n",
       "      <td>0.491492</td>\n",
       "    </tr>\n",
       "    <tr>\n",
       "      <th>1677</th>\n",
       "      <td>iteration4-3_32_0_7</td>\n",
       "      <td>iteration4</td>\n",
       "      <td>all_affinity</td>\n",
       "      <td>100k</td>\n",
       "      <td>1.662631</td>\n",
       "      <td>0.565374</td>\n",
       "      <td>0.560998</td>\n",
       "      <td>0.887932</td>\n",
       "      <td>0.746926</td>\n",
       "      <td>0.491492</td>\n",
       "    </tr>\n",
       "    <tr>\n",
       "      <th>637</th>\n",
       "      <td>iteration2-g2_p0_h0</td>\n",
       "      <td>iteration2</td>\n",
       "      <td>all_affinity</td>\n",
       "      <td>100k</td>\n",
       "      <td>1.668115</td>\n",
       "      <td>0.567108</td>\n",
       "      <td>0.558524</td>\n",
       "      <td>0.915495</td>\n",
       "      <td>0.749532</td>\n",
       "      <td>0.551665</td>\n",
       "    </tr>\n",
       "    <tr>\n",
       "      <th>1193</th>\n",
       "      <td>iteration2-g1_p1_h0</td>\n",
       "      <td>iteration2</td>\n",
       "      <td>all_affinity</td>\n",
       "      <td>100k</td>\n",
       "      <td>1.670774</td>\n",
       "      <td>0.568650</td>\n",
       "      <td>0.571575</td>\n",
       "      <td>0.920238</td>\n",
       "      <td>0.805854</td>\n",
       "      <td>0.595314</td>\n",
       "    </tr>\n",
       "  </tbody>\n",
       "</table>\n",
       "</div>"
      ],
      "text/plain": [
       "                           name           I       testset iteration      rmse  \\\n",
       "953         iteration2-g1_p0_h0  iteration2  all_affinity      100k  1.650597   \n",
       "2077  iteration5-32-32-32_7_1_1  iteration5  all_affinity      100k  1.662631   \n",
       "1677        iteration4-3_32_0_7  iteration4  all_affinity      100k  1.662631   \n",
       "637         iteration2-g2_p0_h0  iteration2  all_affinity      100k  1.668115   \n",
       "1193        iteration2-g1_p1_h0  iteration2  all_affinity      100k  1.670774   \n",
       "\n",
       "             R         S   aucpose    aucaff       top  \n",
       "953   0.575963  0.579083  0.919870  0.771714  0.561282  \n",
       "2077  0.565374  0.560998  0.887932  0.746926  0.491492  \n",
       "1677  0.565374  0.560998  0.887932  0.746926  0.491492  \n",
       "637   0.567108  0.558524  0.915495  0.749532  0.551665  \n",
       "1193  0.568650  0.571575  0.920238  0.805854  0.595314  "
      ]
     },
     "execution_count": 146,
     "metadata": {},
     "output_type": "execute_result"
    }
   ],
   "source": [
    "results100.sort_values(by='rmse')[:5]"
   ]
  },
  {
   "cell_type": "code",
   "execution_count": 147,
   "metadata": {},
   "outputs": [
    {
     "data": {
      "text/html": [
       "<div>\n",
       "<table border=\"1\" class=\"dataframe\">\n",
       "  <thead>\n",
       "    <tr style=\"text-align: right;\">\n",
       "      <th></th>\n",
       "      <th>name</th>\n",
       "      <th>I</th>\n",
       "      <th>testset</th>\n",
       "      <th>iteration</th>\n",
       "      <th>rmse</th>\n",
       "      <th>R</th>\n",
       "      <th>S</th>\n",
       "      <th>aucpose</th>\n",
       "      <th>aucaff</th>\n",
       "      <th>top</th>\n",
       "    </tr>\n",
       "  </thead>\n",
       "  <tbody>\n",
       "    <tr>\n",
       "      <th>443</th>\n",
       "      <td>iteration1-p1_rec0_astrat0_b1</td>\n",
       "      <td>iteration1</td>\n",
       "      <td>all_affinity</td>\n",
       "      <td>100k</td>\n",
       "      <td>1.732900</td>\n",
       "      <td>0.532962</td>\n",
       "      <td>0.550466</td>\n",
       "      <td>0.925966</td>\n",
       "      <td>0.785106</td>\n",
       "      <td>0.528977</td>\n",
       "    </tr>\n",
       "    <tr>\n",
       "      <th>442</th>\n",
       "      <td>iteration1-p1_rec0_astrat0_b1</td>\n",
       "      <td>iteration1</td>\n",
       "      <td>all_pose</td>\n",
       "      <td>100k</td>\n",
       "      <td>1.749490</td>\n",
       "      <td>0.524212</td>\n",
       "      <td>0.540142</td>\n",
       "      <td>0.925966</td>\n",
       "      <td>0.785106</td>\n",
       "      <td>0.634279</td>\n",
       "    </tr>\n",
       "    <tr>\n",
       "      <th>1081</th>\n",
       "      <td>iteration2-g2_p2_h0</td>\n",
       "      <td>iteration2</td>\n",
       "      <td>all_affinity</td>\n",
       "      <td>100k</td>\n",
       "      <td>1.704713</td>\n",
       "      <td>0.558476</td>\n",
       "      <td>0.557435</td>\n",
       "      <td>0.922099</td>\n",
       "      <td>0.823510</td>\n",
       "      <td>0.610851</td>\n",
       "    </tr>\n",
       "    <tr>\n",
       "      <th>1080</th>\n",
       "      <td>iteration2-g2_p2_h0</td>\n",
       "      <td>iteration2</td>\n",
       "      <td>all_pose</td>\n",
       "      <td>100k</td>\n",
       "      <td>1.738621</td>\n",
       "      <td>0.546849</td>\n",
       "      <td>0.546129</td>\n",
       "      <td>0.922099</td>\n",
       "      <td>0.823510</td>\n",
       "      <td>0.618002</td>\n",
       "    </tr>\n",
       "    <tr>\n",
       "      <th>2416</th>\n",
       "      <td>iteration3-none_relu_lr0.010</td>\n",
       "      <td>iteration3</td>\n",
       "      <td>all_pose</td>\n",
       "      <td>100k</td>\n",
       "      <td>1.694823</td>\n",
       "      <td>0.543292</td>\n",
       "      <td>0.541804</td>\n",
       "      <td>0.921432</td>\n",
       "      <td>0.776856</td>\n",
       "      <td>0.630826</td>\n",
       "    </tr>\n",
       "  </tbody>\n",
       "</table>\n",
       "</div>"
      ],
      "text/plain": [
       "                               name           I       testset iteration  \\\n",
       "443   iteration1-p1_rec0_astrat0_b1  iteration1  all_affinity      100k   \n",
       "442   iteration1-p1_rec0_astrat0_b1  iteration1      all_pose      100k   \n",
       "1081            iteration2-g2_p2_h0  iteration2  all_affinity      100k   \n",
       "1080            iteration2-g2_p2_h0  iteration2      all_pose      100k   \n",
       "2416   iteration3-none_relu_lr0.010  iteration3      all_pose      100k   \n",
       "\n",
       "          rmse         R         S   aucpose    aucaff       top  \n",
       "443   1.732900  0.532962  0.550466  0.925966  0.785106  0.528977  \n",
       "442   1.749490  0.524212  0.540142  0.925966  0.785106  0.634279  \n",
       "1081  1.704713  0.558476  0.557435  0.922099  0.823510  0.610851  \n",
       "1080  1.738621  0.546849  0.546129  0.922099  0.823510  0.618002  \n",
       "2416  1.694823  0.543292  0.541804  0.921432  0.776856  0.630826  "
      ]
     },
     "execution_count": 147,
     "metadata": {},
     "output_type": "execute_result"
    }
   ],
   "source": [
    "results100.sort_values(by='aucpose',ascending=False)[:5]"
   ]
  },
  {
   "cell_type": "code",
   "execution_count": 148,
   "metadata": {},
   "outputs": [
    {
     "data": {
      "text/html": [
       "<div>\n",
       "<table border=\"1\" class=\"dataframe\">\n",
       "  <thead>\n",
       "    <tr style=\"text-align: right;\">\n",
       "      <th></th>\n",
       "      <th>name</th>\n",
       "      <th>I</th>\n",
       "      <th>testset</th>\n",
       "      <th>iteration</th>\n",
       "      <th>rmse</th>\n",
       "      <th>R</th>\n",
       "      <th>S</th>\n",
       "      <th>aucpose</th>\n",
       "      <th>aucaff</th>\n",
       "      <th>top</th>\n",
       "    </tr>\n",
       "  </thead>\n",
       "  <tbody>\n",
       "    <tr>\n",
       "      <th>2108</th>\n",
       "      <td>iteration3-batch_relu_lr0.010</td>\n",
       "      <td>iteration3</td>\n",
       "      <td>all_pose</td>\n",
       "      <td>100k</td>\n",
       "      <td>1.693488</td>\n",
       "      <td>0.553803</td>\n",
       "      <td>0.551250</td>\n",
       "      <td>0.916430</td>\n",
       "      <td>0.762815</td>\n",
       "      <td>0.656720</td>\n",
       "    </tr>\n",
       "    <tr>\n",
       "      <th>2572</th>\n",
       "      <td>iteration3-batch_leaky_lr0.010</td>\n",
       "      <td>iteration3</td>\n",
       "      <td>all_pose</td>\n",
       "      <td>100k</td>\n",
       "      <td>1.702117</td>\n",
       "      <td>0.546954</td>\n",
       "      <td>0.535193</td>\n",
       "      <td>0.914155</td>\n",
       "      <td>0.761463</td>\n",
       "      <td>0.651788</td>\n",
       "    </tr>\n",
       "    <tr>\n",
       "      <th>2660</th>\n",
       "      <td>iteration4.6-0.010_1_Adam_0.010</td>\n",
       "      <td>iteration4.6</td>\n",
       "      <td>all_pose</td>\n",
       "      <td>100k</td>\n",
       "      <td>1.749769</td>\n",
       "      <td>0.531438</td>\n",
       "      <td>0.534019</td>\n",
       "      <td>0.917711</td>\n",
       "      <td>0.770594</td>\n",
       "      <td>0.645869</td>\n",
       "    </tr>\n",
       "    <tr>\n",
       "      <th>2400</th>\n",
       "      <td>iteration3-batch_tanh_lr0.010</td>\n",
       "      <td>iteration3</td>\n",
       "      <td>all_pose</td>\n",
       "      <td>100k</td>\n",
       "      <td>1.741043</td>\n",
       "      <td>0.512958</td>\n",
       "      <td>0.504249</td>\n",
       "      <td>0.887398</td>\n",
       "      <td>0.761664</td>\n",
       "      <td>0.641184</td>\n",
       "    </tr>\n",
       "    <tr>\n",
       "      <th>1948</th>\n",
       "      <td>iteration5-64-32-16_3_1_1</td>\n",
       "      <td>iteration5</td>\n",
       "      <td>all_pose</td>\n",
       "      <td>100k</td>\n",
       "      <td>1.721907</td>\n",
       "      <td>0.528304</td>\n",
       "      <td>0.516657</td>\n",
       "      <td>0.910429</td>\n",
       "      <td>0.742457</td>\n",
       "      <td>0.640937</td>\n",
       "    </tr>\n",
       "  </tbody>\n",
       "</table>\n",
       "</div>"
      ],
      "text/plain": [
       "                                 name             I   testset iteration  \\\n",
       "2108    iteration3-batch_relu_lr0.010    iteration3  all_pose      100k   \n",
       "2572   iteration3-batch_leaky_lr0.010    iteration3  all_pose      100k   \n",
       "2660  iteration4.6-0.010_1_Adam_0.010  iteration4.6  all_pose      100k   \n",
       "2400    iteration3-batch_tanh_lr0.010    iteration3  all_pose      100k   \n",
       "1948        iteration5-64-32-16_3_1_1    iteration5  all_pose      100k   \n",
       "\n",
       "          rmse         R         S   aucpose    aucaff       top  \n",
       "2108  1.693488  0.553803  0.551250  0.916430  0.762815  0.656720  \n",
       "2572  1.702117  0.546954  0.535193  0.914155  0.761463  0.651788  \n",
       "2660  1.749769  0.531438  0.534019  0.917711  0.770594  0.645869  \n",
       "2400  1.741043  0.512958  0.504249  0.887398  0.761664  0.641184  \n",
       "1948  1.721907  0.528304  0.516657  0.910429  0.742457  0.640937  "
      ]
     },
     "execution_count": 148,
     "metadata": {},
     "output_type": "execute_result"
    }
   ],
   "source": [
    "results100.sort_values(by='top',ascending=False)[:5]"
   ]
  },
  {
   "cell_type": "code",
   "execution_count": 149,
   "metadata": {},
   "outputs": [
    {
     "data": {
      "text/plain": [
       "<seaborn.axisgrid.JointGrid at 0x7fb991669990>"
      ]
     },
     "execution_count": 149,
     "metadata": {},
     "output_type": "execute_result"
    },
    {
     "data": {
      "image/png": "[encoded data removed]",
      "text/plain": [
       "<matplotlib.figure.Figure at 0x7fb95d8e34d0>"
      ]
     },
     "metadata": {},
     "output_type": "display_data"
    }
   ],
   "source": [
    "sns.jointplot(x='rmse',y='R',data=results100,alpha=.5,xlim=(1.5,2.5),ylim=(.25,.6))"
   ]
  },
  {
   "cell_type": "code",
   "execution_count": 150,
   "metadata": {},
   "outputs": [
    {
     "data": {
      "text/plain": [
       "<seaborn.axisgrid.JointGrid at 0x7fb95c794090>"
      ]
     },
     "execution_count": 150,
     "metadata": {},
     "output_type": "execute_result"
    },
    {
     "data": {
      "image/png": "[encoded data removed]",
      "text/plain": [
       "<matplotlib.figure.Figure at 0x7fb95ebc5790>"
      ]
     },
     "metadata": {},
     "output_type": "display_data"
    }
   ],
   "source": [
    "sns.jointplot(x='rmse',y='aucpose',data=results100,alpha=.5,xlim=(1.5,2.5))"
   ]
  },
  {
   "cell_type": "code",
   "execution_count": 151,
   "metadata": {},
   "outputs": [
    {
     "data": {
      "text/plain": [
       "<seaborn.axisgrid.JointGrid at 0x7fb95c41ce90>"
      ]
     },
     "execution_count": 151,
     "metadata": {},
     "output_type": "execute_result"
    },
    {
     "data": {
      "image/png": "[encoded data removed]",
      "text/plain": [
       "<matplotlib.figure.Figure at 0x7fb95c41ccd0>"
      ]
     },
     "metadata": {},
     "output_type": "display_data"
    }
   ],
   "source": [
    "sns.jointplot(x='rmse',y='top',data=results100,alpha=.5,xlim=(1.5,2.5))"
   ]
  },
  {
   "cell_type": "code",
   "execution_count": 152,
   "metadata": {},
   "outputs": [],
   "source": [
    "# thank you stack overflow\n",
    "\n",
    "def is_pareto_efficient_dumb(costs):\n",
    "    \"\"\"\n",
    "    :param costs: An (n_points, n_costs) array\n",
    "    :return: A (n_points, ) boolean array, indicating whether each point is Pareto efficient\n",
    "    \"\"\"\n",
    "    is_efficient = np.ones(costs.shape[0], dtype = bool)\n",
    "    for i, c in enumerate(costs):\n",
    "        is_efficient[i] = np.all(np.any(costs>=c, axis=1))\n",
    "    return is_efficient"
   ]
  },
  {
   "cell_type": "code",
   "execution_count": 153,
   "metadata": {},
   "outputs": [],
   "source": [
    "costs = np.array(results100[['rmse','aucpose','top','R']])\n",
    "costs[:,1:] *= -1\n",
    "pareto = is_pareto_efficient_dumb(costs)"
   ]
  },
  {
   "cell_type": "code",
   "execution_count": 154,
   "metadata": {},
   "outputs": [
    {
     "data": {
      "text/plain": [
       "[<matplotlib.lines.Line2D at 0x7fb95c0176d0>]"
      ]
     },
     "execution_count": 154,
     "metadata": {},
     "output_type": "execute_result"
    },
    {
     "data": {
      "image/png": "[encoded data removed]",
      "text/plain": [
       "<matplotlib.figure.Figure at 0x7fb95cd1a0d0>"
      ]
     },
     "metadata": {},
     "output_type": "display_data"
    }
   ],
   "source": [
    "p = results100[pareto]\n",
    "plt.plot(p.rmse,p.aucpose,'o')"
   ]
  },
  {
   "cell_type": "code",
   "execution_count": 155,
   "metadata": {},
   "outputs": [],
   "source": [
    "r = results100[results100.testset == 'all_pose']\n",
    "costs = np.array(r[['top','S']])*-1\n",
    "pareto = is_pareto_efficient_dumb(costs)\n",
    "p = r[pareto]"
   ]
  },
  {
   "cell_type": "code",
   "execution_count": 156,
   "metadata": {},
   "outputs": [],
   "source": [
    "ra = results100[results100.testset == 'all_affinity']\n",
    "costs = np.array(ra[['top','S']])*-1\n",
    "paretoa = is_pareto_efficient_dumb(costs)\n",
    "pa = ra[paretoa]"
   ]
  },
  {
   "cell_type": "code",
   "execution_count": 157,
   "metadata": {},
   "outputs": [
    {
     "data": {
      "text/plain": [
       "(0.5, 0.6138508802164)"
      ]
     },
     "execution_count": 157,
     "metadata": {},
     "output_type": "execute_result"
    },
    {
     "data": {
      "image/png": "[encoded data removed]",
      "text/plain": [
       "<matplotlib.figure.Figure at 0x7fb95c057610>"
      ]
     },
     "metadata": {},
     "output_type": "display_data"
    }
   ],
   "source": [
    "plt.plot(results100.top,results100.S,'o',alpha=.2)\n",
    "\n",
    "plt.plot(p.top,p.S,'o')\n",
    "plt.plot(pa.top,pa.S,'o',alpha=.5)\n",
    "plt.xlabel('Top')\n",
    "plt.ylabel('S')\n",
    "plt.xlim(.5)\n",
    "plt.ylim(.5)"
   ]
  },
  {
   "cell_type": "code",
   "execution_count": 161,
   "metadata": {},
   "outputs": [
    {
     "data": {
      "text/plain": [
       "(0.5, 0.59300561839379995)"
      ]
     },
     "execution_count": 161,
     "metadata": {},
     "output_type": "execute_result"
    },
    {
     "data": {
      "image/png": "[encoded data removed]",
      "text/plain": [
       "<matplotlib.figure.Figure at 0x7fb95bf57610>"
      ]
     },
     "metadata": {},
     "output_type": "display_data"
    }
   ],
   "source": [
    "plt.plot(r.top,r.S,'o',alpha=.2)\n",
    "\n",
    "plt.plot(p.top,p.S,'o')\n",
    "#plt.plot(pa.top,pa.S,'o',alpha=.5)\n",
    "plt.xlabel('Top')\n",
    "plt.ylabel('S')\n",
    "plt.xlim(.5)\n",
    "plt.ylim(.5)"
   ]
  },
  {
   "cell_type": "code",
   "execution_count": 144,
   "metadata": {},
   "outputs": [
    {
     "data": {
      "text/html": [
       "<div>\n",
       "<table border=\"1\" class=\"dataframe\">\n",
       "  <thead>\n",
       "    <tr style=\"text-align: right;\">\n",
       "      <th></th>\n",
       "      <th>name</th>\n",
       "      <th>I</th>\n",
       "      <th>testset</th>\n",
       "      <th>iteration</th>\n",
       "      <th>rmse</th>\n",
       "      <th>R</th>\n",
       "      <th>S</th>\n",
       "      <th>aucpose</th>\n",
       "      <th>aucaff</th>\n",
       "      <th>top</th>\n",
       "    </tr>\n",
       "  </thead>\n",
       "  <tbody>\n",
       "    <tr>\n",
       "      <th>952</th>\n",
       "      <td>iteration2-g1_p0_h0</td>\n",
       "      <td>iteration2</td>\n",
       "      <td>all_pose</td>\n",
       "      <td>100k</td>\n",
       "      <td>1.678961</td>\n",
       "      <td>0.559362</td>\n",
       "      <td>0.559834</td>\n",
       "      <td>0.919870</td>\n",
       "      <td>0.771714</td>\n",
       "      <td>0.619729</td>\n",
       "    </tr>\n",
       "    <tr>\n",
       "      <th>1192</th>\n",
       "      <td>iteration2-g1_p1_h0</td>\n",
       "      <td>iteration2</td>\n",
       "      <td>all_pose</td>\n",
       "      <td>100k</td>\n",
       "      <td>1.704754</td>\n",
       "      <td>0.554418</td>\n",
       "      <td>0.556157</td>\n",
       "      <td>0.920238</td>\n",
       "      <td>0.805854</td>\n",
       "      <td>0.626387</td>\n",
       "    </tr>\n",
       "    <tr>\n",
       "      <th>540</th>\n",
       "      <td>iteration2-g2_p1_h0</td>\n",
       "      <td>iteration2</td>\n",
       "      <td>all_pose</td>\n",
       "      <td>100k</td>\n",
       "      <td>1.701453</td>\n",
       "      <td>0.552951</td>\n",
       "      <td>0.552811</td>\n",
       "      <td>0.919297</td>\n",
       "      <td>0.801777</td>\n",
       "      <td>0.637731</td>\n",
       "    </tr>\n",
       "    <tr>\n",
       "      <th>2108</th>\n",
       "      <td>iteration3-batch_relu_lr0.010</td>\n",
       "      <td>iteration3</td>\n",
       "      <td>all_pose</td>\n",
       "      <td>100k</td>\n",
       "      <td>1.693488</td>\n",
       "      <td>0.553803</td>\n",
       "      <td>0.551250</td>\n",
       "      <td>0.916430</td>\n",
       "      <td>0.762815</td>\n",
       "      <td>0.656720</td>\n",
       "    </tr>\n",
       "    <tr>\n",
       "      <th>276</th>\n",
       "      <td>iteration6-0.250_conv4_pool1_grouped0_func1_swap0</td>\n",
       "      <td>iteration6</td>\n",
       "      <td>all_pose</td>\n",
       "      <td>100k</td>\n",
       "      <td>1.707395</td>\n",
       "      <td>0.531778</td>\n",
       "      <td>0.529454</td>\n",
       "      <td>0.910258</td>\n",
       "      <td>0.748140</td>\n",
       "      <td>0.669544</td>\n",
       "    </tr>\n",
       "  </tbody>\n",
       "</table>\n",
       "</div>"
      ],
      "text/plain": [
       "                                                   name           I   testset  \\\n",
       "952                                 iteration2-g1_p0_h0  iteration2  all_pose   \n",
       "1192                                iteration2-g1_p1_h0  iteration2  all_pose   \n",
       "540                                 iteration2-g2_p1_h0  iteration2  all_pose   \n",
       "2108                      iteration3-batch_relu_lr0.010  iteration3  all_pose   \n",
       "276   iteration6-0.250_conv4_pool1_grouped0_func1_swap0  iteration6  all_pose   \n",
       "\n",
       "     iteration      rmse         R         S   aucpose    aucaff       top  \n",
       "952       100k  1.678961  0.559362  0.559834  0.919870  0.771714  0.619729  \n",
       "1192      100k  1.704754  0.554418  0.556157  0.920238  0.805854  0.626387  \n",
       "540       100k  1.701453  0.552951  0.552811  0.919297  0.801777  0.637731  \n",
       "2108      100k  1.693488  0.553803  0.551250  0.916430  0.762815  0.656720  \n",
       "276       100k  1.707395  0.531778  0.529454  0.910258  0.748140  0.669544  "
      ]
     },
     "execution_count": 144,
     "metadata": {},
     "output_type": "execute_result"
    }
   ],
   "source": [
    "p.sort_values('top')"
   ]
  },
  {
   "cell_type": "code",
   "execution_count": 158,
   "metadata": {},
   "outputs": [
    {
     "data": {
      "text/html": [
       "<div>\n",
       "<table border=\"1\" class=\"dataframe\">\n",
       "  <thead>\n",
       "    <tr style=\"text-align: right;\">\n",
       "      <th></th>\n",
       "      <th>name</th>\n",
       "      <th>I</th>\n",
       "      <th>testset</th>\n",
       "      <th>iteration</th>\n",
       "      <th>rmse</th>\n",
       "      <th>R</th>\n",
       "      <th>S</th>\n",
       "      <th>aucpose</th>\n",
       "      <th>aucaff</th>\n",
       "      <th>top</th>\n",
       "    </tr>\n",
       "  </thead>\n",
       "  <tbody>\n",
       "    <tr>\n",
       "      <th>953</th>\n",
       "      <td>iteration2-g1_p0_h0</td>\n",
       "      <td>iteration2</td>\n",
       "      <td>all_affinity</td>\n",
       "      <td>100k</td>\n",
       "      <td>1.650597</td>\n",
       "      <td>0.575963</td>\n",
       "      <td>0.579083</td>\n",
       "      <td>0.919870</td>\n",
       "      <td>0.771714</td>\n",
       "      <td>0.561282</td>\n",
       "    </tr>\n",
       "    <tr>\n",
       "      <th>1193</th>\n",
       "      <td>iteration2-g1_p1_h0</td>\n",
       "      <td>iteration2</td>\n",
       "      <td>all_affinity</td>\n",
       "      <td>100k</td>\n",
       "      <td>1.670774</td>\n",
       "      <td>0.568650</td>\n",
       "      <td>0.571575</td>\n",
       "      <td>0.920238</td>\n",
       "      <td>0.805854</td>\n",
       "      <td>0.595314</td>\n",
       "    </tr>\n",
       "    <tr>\n",
       "      <th>541</th>\n",
       "      <td>iteration2-g2_p1_h0</td>\n",
       "      <td>iteration2</td>\n",
       "      <td>all_affinity</td>\n",
       "      <td>100k</td>\n",
       "      <td>1.671064</td>\n",
       "      <td>0.566444</td>\n",
       "      <td>0.567625</td>\n",
       "      <td>0.919297</td>\n",
       "      <td>0.801777</td>\n",
       "      <td>0.606905</td>\n",
       "    </tr>\n",
       "    <tr>\n",
       "      <th>1081</th>\n",
       "      <td>iteration2-g2_p2_h0</td>\n",
       "      <td>iteration2</td>\n",
       "      <td>all_affinity</td>\n",
       "      <td>100k</td>\n",
       "      <td>1.704713</td>\n",
       "      <td>0.558476</td>\n",
       "      <td>0.557435</td>\n",
       "      <td>0.922099</td>\n",
       "      <td>0.823510</td>\n",
       "      <td>0.610851</td>\n",
       "    </tr>\n",
       "    <tr>\n",
       "      <th>1049</th>\n",
       "      <td>iteration2-g1_p4_h6</td>\n",
       "      <td>iteration2</td>\n",
       "      <td>all_affinity</td>\n",
       "      <td>100k</td>\n",
       "      <td>1.728620</td>\n",
       "      <td>0.551862</td>\n",
       "      <td>0.545324</td>\n",
       "      <td>0.917875</td>\n",
       "      <td>0.822993</td>\n",
       "      <td>0.612330</td>\n",
       "    </tr>\n",
       "    <tr>\n",
       "      <th>1321</th>\n",
       "      <td>iteration2-g2_p4_h0</td>\n",
       "      <td>iteration2</td>\n",
       "      <td>all_affinity</td>\n",
       "      <td>100k</td>\n",
       "      <td>1.773668</td>\n",
       "      <td>0.540626</td>\n",
       "      <td>0.540151</td>\n",
       "      <td>0.917587</td>\n",
       "      <td>0.832073</td>\n",
       "      <td>0.620715</td>\n",
       "    </tr>\n",
       "    <tr>\n",
       "      <th>857</th>\n",
       "      <td>iteration2-g1_p4_h0</td>\n",
       "      <td>iteration2</td>\n",
       "      <td>all_affinity</td>\n",
       "      <td>100k</td>\n",
       "      <td>1.781914</td>\n",
       "      <td>0.528489</td>\n",
       "      <td>0.521414</td>\n",
       "      <td>0.916916</td>\n",
       "      <td>0.830906</td>\n",
       "      <td>0.630086</td>\n",
       "    </tr>\n",
       "  </tbody>\n",
       "</table>\n",
       "</div>"
      ],
      "text/plain": [
       "                     name           I       testset iteration      rmse  \\\n",
       "953   iteration2-g1_p0_h0  iteration2  all_affinity      100k  1.650597   \n",
       "1193  iteration2-g1_p1_h0  iteration2  all_affinity      100k  1.670774   \n",
       "541   iteration2-g2_p1_h0  iteration2  all_affinity      100k  1.671064   \n",
       "1081  iteration2-g2_p2_h0  iteration2  all_affinity      100k  1.704713   \n",
       "1049  iteration2-g1_p4_h6  iteration2  all_affinity      100k  1.728620   \n",
       "1321  iteration2-g2_p4_h0  iteration2  all_affinity      100k  1.773668   \n",
       "857   iteration2-g1_p4_h0  iteration2  all_affinity      100k  1.781914   \n",
       "\n",
       "             R         S   aucpose    aucaff       top  \n",
       "953   0.575963  0.579083  0.919870  0.771714  0.561282  \n",
       "1193  0.568650  0.571575  0.920238  0.805854  0.595314  \n",
       "541   0.566444  0.567625  0.919297  0.801777  0.606905  \n",
       "1081  0.558476  0.557435  0.922099  0.823510  0.610851  \n",
       "1049  0.551862  0.545324  0.917875  0.822993  0.612330  \n",
       "1321  0.540626  0.540151  0.917587  0.832073  0.620715  \n",
       "857   0.528489  0.521414  0.916916  0.830906  0.630086  "
      ]
     },
     "execution_count": 158,
     "metadata": {},
     "output_type": "execute_result"
    }
   ],
   "source": [
    "pa.sort_values('top')"
   ]
  },
  {
   "cell_type": "code",
   "execution_count": 165,
   "metadata": {},
   "outputs": [
    {
     "data": {
      "text/plain": [
       "<matplotlib.figure.Figure at 0x7fb95ddea990>"
      ]
     },
     "metadata": {},
     "output_type": "display_data"
    },
    {
     "data": {
      "image/png": "[encoded data removed]",
      "text/plain": [
       "<matplotlib.figure.Figure at 0x7fb95d8e3590>"
      ]
     },
     "metadata": {},
     "output_type": "display_data"
    }
   ],
   "source": [
    "plt.figure(figsize=(12,12))\n",
    "sns.lmplot(x='top',y='R',data=results100[results100.testset == 'all_pose'],fit_reg=False,hue='I',scatter_kws={'alpha':0.6})\n",
    "plt.xlim(.5)\n",
    "plt.ylim(.5)\n",
    "plt.savefig('iterations.pdf',bbox_inches='tight')"
   ]
  },
  {
   "cell_type": "code",
   "execution_count": null,
   "metadata": {},
   "outputs": [],
   "source": []
  }
 ],
 "metadata": {
  "kernelspec": {
   "display_name": "Python 2",
   "language": "python",
   "name": "python2"
  },
  "language_info": {
   "codemirror_mode": {
    "name": "ipython",
    "version": 2
   },
   "file_extension": ".py",
   "mimetype": "text/x-python",
   "name": "python",
   "nbconvert_exporter": "python",
   "pygments_lexer": "ipython2",
   "version": "2.7.12"
  }
 },
 "nbformat": 4,
 "nbformat_minor": 2
}
